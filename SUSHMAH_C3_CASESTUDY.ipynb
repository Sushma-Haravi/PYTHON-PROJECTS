{
 "cells": [
  {
   "cell_type": "code",
   "execution_count": 1,
   "id": "edbf3932",
   "metadata": {},
   "outputs": [],
   "source": [
    "# CASE STUDY #"
   ]
  },
  {
   "cell_type": "code",
   "execution_count": 37,
   "id": "4cf45b99",
   "metadata": {},
   "outputs": [
    {
     "ename": "TypeError",
     "evalue": "'str' object is not callable",
     "output_type": "error",
     "traceback": [
      "\u001b[1;31m---------------------------------------------------------------------------\u001b[0m",
      "\u001b[1;31mTypeError\u001b[0m                                 Traceback (most recent call last)",
      "\u001b[1;32m~\\AppData\\Local\\Temp\\ipykernel_20156\\329865877.py\u001b[0m in \u001b[0;36m<module>\u001b[1;34m\u001b[0m\n\u001b[0;32m      8\u001b[0m \u001b[1;33m\u001b[0m\u001b[0m\n\u001b[0;32m      9\u001b[0m \u001b[0mPRODUCTS\u001b[0m\u001b[1;33m=\u001b[0m\u001b[1;33m(\u001b[0m\u001b[1;34m\"S.No\"\u001b[0m\u001b[1;33m,\u001b[0m\u001b[1;34m\"item name\"\u001b[0m\u001b[1;33m,\u001b[0m\u001b[1;34m\"Quantity\"\u001b[0m\u001b[1;33m,\u001b[0m\u001b[1;34m\"cost\"\u001b[0m\u001b[1;33m)\u001b[0m\u001b[1;33m\u001b[0m\u001b[1;33m\u001b[0m\u001b[0m\n\u001b[1;32m---> 10\u001b[1;33m \u001b[0mprint\u001b[0m\u001b[1;33m(\u001b[0m\u001b[1;34m\"%10s %15s %10s %10s\"\u001b[0m \u001b[1;33m%\u001b[0m\u001b[0mPRODUCTS\u001b[0m\u001b[1;33m)\u001b[0m\u001b[1;33m\u001b[0m\u001b[1;33m\u001b[0m\u001b[0m\n\u001b[0m\u001b[0;32m     11\u001b[0m \u001b[1;33m\u001b[0m\u001b[0m\n\u001b[0;32m     12\u001b[0m \u001b[1;32mfor\u001b[0m \u001b[0mitem\u001b[0m \u001b[1;32min\u001b[0m \u001b[0mshopping_cart\u001b[0m\u001b[1;33m:\u001b[0m\u001b[1;33m\u001b[0m\u001b[1;33m\u001b[0m\u001b[0m\n",
      "\u001b[1;31mTypeError\u001b[0m: 'str' object is not callable"
     ]
    }
   ],
   "source": [
    "shopping_cart = {\"1\":{\"Name\":\"chocolate\",\"price\":150,\"Quantity\":20},\n",
    "                 \"2\":{\"Name\":\"icecream\",\"price\":200,\"Quantity\":30},\n",
    "                 \"3\":{\"Name\":\"fruits\",\"price\":150,\"Quantity\":25},\n",
    "                 \"4\":{\"Name\":\"vegetables\",\"price\":120,\"Quantity\":20},\n",
    "                 \"5\":{\"Name\":\"chips\",\"price\":150,\"Quantity\":15}\n",
    "                }\n",
    "\n",
    "\n",
    "PRODUCTS=(\"S.No\",\"item name\",\"Quantity\",\"cost\")\n",
    "print(\"%10s %15s %10s %10s\" %PRODUCTS)\n",
    "    \n",
    "for item in shopping_cart:\n",
    "    cart=(item,shopping_cart[item][\"Name\"],\"$\"+str(shopping_cart[item][\"price\"]),shopping_cart[item][\"Quantity\"])\n",
    "    print(\"%10s %15s %10s %10s\" %cart)\n",
    "    \n",
    "# Ask the customer to enter the quantities required for each item #\n",
    "print=(\"Enter the quantity of each item which you want to purchase : \")\n",
    "quantity = {}\n",
    "for items in shopping_cart:\n",
    "    qty = int(input(f\"how many quantity of {shopping_cart[items]['Name']} are required \"))\n",
    "    if qty < shopping_cart[items][\"Quantity\"]:\n",
    "        quantity[items]=qty\n",
    "        shopping_cart[items][\"Quantity\"]-=qty\n",
    "    else:\n",
    "        print(f\"product is not available.\")\n",
    "        \n",
    "# customer name and delivery adderss #\n",
    "name = input(\"Enter customer name : \")\n",
    "address = input(\"Enter customer address : \")\n",
    "distance = int(input(\"Enter the distance from the store : \"))\n",
    "\n",
    "# delivery charges based on the address #\n",
    "if distance <= 5:\n",
    "    delivery_cahrge=10\n",
    "elif distance >=5 and distance >=10:\n",
    "    delivery_cahrge=12\n",
    "elif distance >=10 and distance>=15:\n",
    "    delivery_cahrge=14\n",
    "else:\n",
    "    delivery_cahrge=20\n",
    "    \n",
    "    \n",
    "# final bill of the item purchased #\n",
    "print(\"Final Bill \")\n",
    "print(\"%10s %10s %10s %10s %10s\" %(\"item.no\",\"Name\",\"price\",\"Quantity\",\"bill_cost\"))\n",
    "bill_cost = 0\n",
    "for items in quantity:\n",
    "    quantity[item]=qty\n",
    "    bill_cost+=qty*shopping_cart[items][\"price\"]\n",
    "    cart = (items,shopping_cart[items][\"Name\"],shopping_cart[items][\"price\"]),shopping_cart[items][\"Quantity\"],qty*shopping_cart[items][\"price\"]\n",
    "    \n",
    "    print(\"%10s %10s %10d %10d %10d\" %(items,shopping_cart[items][\"Name\"],shopping_cart[items][\"price\"],shopping_cart[items][\"Quantity\"],qty*shopping_cart[items][\"price\"]))\n",
    "print(\"---------------------------------------\")\n",
    "print(\"total_cost : \",bill_cost)\n",
    "print(\"delivery_charge : \",delivery_cahrge)\n",
    "print(\"final bill amount : \",(bill_cost+delivery_cahrge))\n",
    "print(\"customer name : \",name)\n",
    "print(\"customer address : \",address)\n",
    "\n",
    "nxt_shopping = (\"do you want to continue (yes/no) : \")\n",
    "if nxt_shopping == no:\n",
    "    break\n",
    "    \n",
    "\n",
    "\n",
    "        \n",
    "    \n",
    "       \n",
    "    \n",
    "    "
   ]
  },
  {
   "cell_type": "code",
   "execution_count": 7,
   "id": "2412770d",
   "metadata": {},
   "outputs": [
    {
     "name": "stdout",
     "output_type": "stream",
     "text": [
      "how many quantity of chocolate are required 2\n",
      "how many quantity of icecream are required 4\n",
      "how many quantity of fruits are required 5\n",
      "how many quantity of vegetables are required 5\n",
      "how many quantity of chips are required 2\n"
     ]
    }
   ],
   "source": [
    "print=(\"Enter the quantity of each items which you want to purchase : \")\n",
    "quantity = {}\n",
    "for items in shopping_cart:\n",
    "    qty = int(input(f\"how many quantity of {shopping_cart[items]['Name']} are required \"))\n",
    "    if qty < shopping_cart[items][\"Quantity\"]:\n",
    "        quantity[items]=qty\n",
    "        shopping_cart[items][\"Quantity\"]-=qty\n",
    "    else:\n",
    "        print(f\"product is not available.\")"
   ]
  },
  {
   "cell_type": "code",
   "execution_count": 8,
   "id": "d4893d79",
   "metadata": {},
   "outputs": [
    {
     "name": "stdout",
     "output_type": "stream",
     "text": [
      "Enter customer name : sushma\n",
      "Enter customer address : bangalore\n",
      "Enter the distance from the store : 5\n"
     ]
    }
   ],
   "source": [
    "name = input(\"Enter customer name : \")\n",
    "address = input(\"Enter customer address : \")\n",
    "distance =int(input(\"Enter the distance from the store : \"))"
   ]
  },
  {
   "cell_type": "code",
   "execution_count": 16,
   "id": "104632b3",
   "metadata": {},
   "outputs": [
    {
     "ename": "TypeError",
     "evalue": "'str' object is not callable",
     "output_type": "error",
     "traceback": [
      "\u001b[1;31m---------------------------------------------------------------------------\u001b[0m",
      "\u001b[1;31mTypeError\u001b[0m                                 Traceback (most recent call last)",
      "\u001b[1;32m~\\AppData\\Local\\Temp\\ipykernel_20156\\1358717625.py\u001b[0m in \u001b[0;36m<module>\u001b[1;34m\u001b[0m\n\u001b[1;32m----> 1\u001b[1;33m \u001b[0mprint\u001b[0m\u001b[1;33m(\u001b[0m\u001b[1;34m\"Final Bill \"\u001b[0m\u001b[1;33m)\u001b[0m\u001b[1;33m\u001b[0m\u001b[1;33m\u001b[0m\u001b[0m\n\u001b[0m\u001b[0;32m      2\u001b[0m \u001b[0mprint\u001b[0m\u001b[1;33m(\u001b[0m\u001b[1;34m\"%10s %10s %10s %10s %10s\"\u001b[0m \u001b[1;33m%\u001b[0m\u001b[1;33m(\u001b[0m\u001b[1;34m\"item.no\"\u001b[0m\u001b[1;33m,\u001b[0m\u001b[1;34m\"Name\"\u001b[0m\u001b[1;33m,\u001b[0m\u001b[1;34m\"price\"\u001b[0m\u001b[1;33m,\u001b[0m\u001b[1;34m\"Quantity\"\u001b[0m\u001b[1;33m,\u001b[0m\u001b[1;34m\"bill_cost\"\u001b[0m\u001b[1;33m)\u001b[0m\u001b[1;33m)\u001b[0m\u001b[1;33m\u001b[0m\u001b[1;33m\u001b[0m\u001b[0m\n\u001b[0;32m      3\u001b[0m \u001b[0mbill_cost\u001b[0m \u001b[1;33m=\u001b[0m \u001b[1;36m0\u001b[0m\u001b[1;33m\u001b[0m\u001b[1;33m\u001b[0m\u001b[0m\n\u001b[0;32m      4\u001b[0m \u001b[1;32mfor\u001b[0m \u001b[0mitems\u001b[0m \u001b[1;32min\u001b[0m \u001b[0mquantity\u001b[0m\u001b[1;33m:\u001b[0m\u001b[1;33m\u001b[0m\u001b[1;33m\u001b[0m\u001b[0m\n\u001b[0;32m      5\u001b[0m     \u001b[0mquantity\u001b[0m\u001b[1;33m[\u001b[0m\u001b[0mitems\u001b[0m\u001b[1;33m]\u001b[0m\u001b[1;33m=\u001b[0m\u001b[0mqty\u001b[0m\u001b[1;33m\u001b[0m\u001b[1;33m\u001b[0m\u001b[0m\n",
      "\u001b[1;31mTypeError\u001b[0m: 'str' object is not callable"
     ]
    }
   ],
   "source": [
    "print(\"Final Bill \")\n",
    "print(\"%10s %10s %10s %10s %10s\" %(\"item.no\",\"Name\",\"price\",\"Quantity\",\"bill_cost\"))\n",
    "bill_cost = 0\n",
    "for items in quantity:\n",
    "    quantity[items]=qty\n",
    "    bill_cost+=qty*shopping_cart[items][\"price\"]\n",
    "    cart = (items,shopping_cart[items][\"Name\"],shopping_cart[items][\"price\"],shopping_cart[items][\"Quantity\"],qty*shopping_cart[items][\"price\"])\n",
    "    \n",
    "    print(\"%10s %10s %10s %10s %10s\" %(items,shopping_cart[items][\"Name\"],shopping_cart[items][\"price\"],shopping_cart[items][\"Quantity\"],qty*shopping_cart[items][\"price\"]))\n",
    "print(\"---------------------------------------\")\n",
    "print(\"total_cost : \",bill_cost)\n",
    "print(\"delivery_charge : \",delivery_cahrge)\n",
    "print(\"final bill amount : \",(bill_cost+delivery_cahrge))\n",
    "print(\"customer name : \",name)\n",
    "print(\"customer address : \",address)\n",
    "\n",
    "nxt_shopping = (\"do you want to continue (yes/no) : \")\n",
    "if nxt_shopping == no:\n",
    "    break"
   ]
  },
  {
   "cell_type": "code",
   "execution_count": 36,
   "id": "49c22719",
   "metadata": {},
   "outputs": [
    {
     "ename": "TypeError",
     "evalue": "'str' object is not callable",
     "output_type": "error",
     "traceback": [
      "\u001b[1;31m---------------------------------------------------------------------------\u001b[0m",
      "\u001b[1;31mTypeError\u001b[0m                                 Traceback (most recent call last)",
      "\u001b[1;32m~\\AppData\\Local\\Temp\\ipykernel_20156\\2661406075.py\u001b[0m in \u001b[0;36m<module>\u001b[1;34m\u001b[0m\n\u001b[0;32m      1\u001b[0m \u001b[0mproducts\u001b[0m \u001b[1;33m=\u001b[0m \u001b[1;33m(\u001b[0m\u001b[1;34m\"Item.no\"\u001b[0m\u001b[1;33m,\u001b[0m\u001b[1;34m\"item Name\"\u001b[0m\u001b[1;33m,\u001b[0m\u001b[1;34m\"price\"\u001b[0m\u001b[1;33m,\u001b[0m\u001b[1;34m\"Quantity\"\u001b[0m\u001b[1;33m)\u001b[0m\u001b[1;33m\u001b[0m\u001b[1;33m\u001b[0m\u001b[0m\n\u001b[1;32m----> 2\u001b[1;33m \u001b[0mprint\u001b[0m\u001b[1;33m(\u001b[0m\u001b[1;34m\"%10s %10s %10s %10s\"\u001b[0m  \u001b[1;33m%\u001b[0m\u001b[0mproducts\u001b[0m\u001b[1;33m)\u001b[0m\u001b[1;33m\u001b[0m\u001b[1;33m\u001b[0m\u001b[0m\n\u001b[0m\u001b[0;32m      3\u001b[0m \u001b[1;32mfor\u001b[0m \u001b[0mitems\u001b[0m \u001b[1;32min\u001b[0m \u001b[0mshopping_cart\u001b[0m\u001b[1;33m:\u001b[0m\u001b[1;33m\u001b[0m\u001b[1;33m\u001b[0m\u001b[0m\n\u001b[0;32m      4\u001b[0m     \u001b[0mcart\u001b[0m \u001b[1;33m=\u001b[0m \u001b[1;33m(\u001b[0m\u001b[0mitems\u001b[0m\u001b[1;33m,\u001b[0m\u001b[0mshopping_cart\u001b[0m\u001b[1;33m[\u001b[0m\u001b[0mitems\u001b[0m\u001b[1;33m]\u001b[0m\u001b[1;33m[\u001b[0m\u001b[1;34m\"Name\"\u001b[0m\u001b[1;33m]\u001b[0m\u001b[1;33m,\u001b[0m\u001b[0mshopping_cart\u001b[0m\u001b[1;33m[\u001b[0m\u001b[0mitems\u001b[0m\u001b[1;33m]\u001b[0m\u001b[1;33m[\u001b[0m\u001b[1;34m\"price\"\u001b[0m\u001b[1;33m]\u001b[0m\u001b[1;33m,\u001b[0m\u001b[0mshopping_cart\u001b[0m\u001b[1;33m[\u001b[0m\u001b[0mitems\u001b[0m\u001b[1;33m]\u001b[0m\u001b[1;33m[\u001b[0m\u001b[1;34m\"Quantity\"\u001b[0m\u001b[1;33m]\u001b[0m\u001b[1;33m)\u001b[0m\u001b[1;33m\u001b[0m\u001b[1;33m\u001b[0m\u001b[0m\n\u001b[0;32m      5\u001b[0m     \u001b[0mprint\u001b[0m\u001b[1;33m(\u001b[0m\u001b[1;34m\"%10s %10s %10s %10s\"\u001b[0m \u001b[1;33m%\u001b[0m\u001b[0mcart\u001b[0m\u001b[1;33m)\u001b[0m\u001b[1;33m\u001b[0m\u001b[1;33m\u001b[0m\u001b[0m\n",
      "\u001b[1;31mTypeError\u001b[0m: 'str' object is not callable"
     ]
    }
   ],
   "source": [
    "products = (\"Item.no\",\"item Name\",\"price\",\"Quantity\")\n",
    "print(\"%10s %10s %10s %10s\"  %products)\n",
    "for items in shopping_cart:\n",
    "    cart = (items,shopping_cart[items][\"Name\"],shopping_cart[items][\"price\"],shopping_cart[items][\"Quantity\"])\n",
    "    print(\"%10s %10s %10s %10s\" %cart)\n",
    "        "
   ]
  },
  {
   "cell_type": "code",
   "execution_count": null,
   "id": "8305c0a8",
   "metadata": {},
   "outputs": [],
   "source": []
  }
 ],
 "metadata": {
  "kernelspec": {
   "display_name": "Python 3 (ipykernel)",
   "language": "python",
   "name": "python3"
  },
  "language_info": {
   "codemirror_mode": {
    "name": "ipython",
    "version": 3
   },
   "file_extension": ".py",
   "mimetype": "text/x-python",
   "name": "python",
   "nbconvert_exporter": "python",
   "pygments_lexer": "ipython3",
   "version": "3.9.13"
  }
 },
 "nbformat": 4,
 "nbformat_minor": 5
}
